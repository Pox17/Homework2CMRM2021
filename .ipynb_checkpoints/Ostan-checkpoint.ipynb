{
 "cells": [
  {
   "cell_type": "markdown",
   "metadata": {},
   "source": [
    "# <h1><center> Homework 2 Assignment </center></h1>\n",
    "### <h2><center> Computer Music Representations and Models Course </center></h2>\n",
    "#### <h3><center> Acoustics Engineering @ Politecnico di Milano </center></h3>\n"
   ]
  },
  {
   "cell_type": "code",
   "execution_count": 584,
   "metadata": {},
   "outputs": [],
   "source": [
    "import os\n",
    "import numpy as np\n",
    "from matplotlib import pyplot as plt\n",
    "import matplotlib.image as mpimg\n",
    "import librosa\n",
    "import IPython.display as ipd\n",
    "import csv"
   ]
  },
  {
   "cell_type": "markdown",
   "metadata": {},
   "source": [
    "##### Question 1\n",
    "<!-->in this element is loaded the main answer to the first question<!-->\n",
    "Implementation of _template based chord recognition function_. Given an audio file, and some control parameters as the input of the function, it will extrapolate the chord sequence based on the audio feature extrapolation "
   ]
  },
  {
   "cell_type": "code",
   "execution_count": 585,
   "metadata": {},
   "outputs": [],
   "source": [
    "def stft_basic(x, w, H=8):\n",
    "    \"\"\"Compute a basic version of the discrete short-time Fourier transform (STFT)\n",
    "\n",
    "    Args:\n",
    "        x: Signal to be transformed\n",
    "        w: Window function\n",
    "        H: Hopsize\n",
    "\n",
    "    Returns:\n",
    "        X: The discrete short-time Fourier transform\n",
    "    \"\"\"\n",
    "    N = len(w)\n",
    "    L = len(x)\n",
    "    M = np.floor((L - N) / H).astype(int)\n",
    "    X = np.zeros((N, M + 1), dtype='complex')\n",
    "    for m in range(M + 1):\n",
    "        x_win = x[m * H:m * H + N] * w\n",
    "        X_win = np.fft.fft(x_win)\n",
    "        X[:, m] = X_win\n",
    "    K = (N + 1) // 2\n",
    "    X = X[:K, :]\n",
    "    return X"
   ]
  },
  {
   "cell_type": "code",
   "execution_count": 586,
   "metadata": {},
   "outputs": [],
   "source": [
    "#creation of the main chord templates for the recognition algorithm \n",
    "template_cmaj = np.array([[1,0,0,0,1,0,0,1,0,0,0,0]]).T\n",
    "template_cmin = np.array([[1,0,0,1,0,0,0,1,0,0,0,0]]).T"
   ]
  },
  {
   "cell_type": "code",
   "execution_count": 587,
   "metadata": {},
   "outputs": [],
   "source": [
    "#function that generates a template matrix shifting chords pattern (e.g. C_maj, C_min...) in all 12 keys. \n",
    "# the function expects a matrix of dimensions (12,n) containing n possibile patterns  \n",
    "def generate_template_matrix(templates):\n",
    "    template_matrix = np.zeros((12,12 * templates.shape[1]))\n",
    "    for shift in range(12):\n",
    "        template_matrix[:, shift::12] = np.roll(templates,shift, axis = 0)\n",
    "    return template_matrix"
   ]
  },
  {
   "cell_type": "code",
   "execution_count": 588,
   "metadata": {},
   "outputs": [
    {
     "data": {
      "text/plain": [
       "([<matplotlib.axis.XTick at 0x1dac5cf3b50>,\n",
       "  <matplotlib.axis.XTick at 0x1dac5cf3b20>,\n",
       "  <matplotlib.axis.XTick at 0x1dac54e3370>,\n",
       "  <matplotlib.axis.XTick at 0x1dac6fc6130>,\n",
       "  <matplotlib.axis.XTick at 0x1dac6fc6880>,\n",
       "  <matplotlib.axis.XTick at 0x1dac6fc6fd0>,\n",
       "  <matplotlib.axis.XTick at 0x1dac6fcc130>,\n",
       "  <matplotlib.axis.XTick at 0x1dac6fcc880>,\n",
       "  <matplotlib.axis.XTick at 0x1dac6fd20d0>,\n",
       "  <matplotlib.axis.XTick at 0x1dac6fd2760>,\n",
       "  <matplotlib.axis.XTick at 0x1dac6fd2eb0>,\n",
       "  <matplotlib.axis.XTick at 0x1dac6fd8640>,\n",
       "  <matplotlib.axis.XTick at 0x1dac6fd2430>,\n",
       "  <matplotlib.axis.XTick at 0x1dac6fcc0a0>,\n",
       "  <matplotlib.axis.XTick at 0x1dac6fd8b50>,\n",
       "  <matplotlib.axis.XTick at 0x1dac6fde2e0>,\n",
       "  <matplotlib.axis.XTick at 0x1dac6fdea30>,\n",
       "  <matplotlib.axis.XTick at 0x1dac6fe41c0>,\n",
       "  <matplotlib.axis.XTick at 0x1dac6fded60>,\n",
       "  <matplotlib.axis.XTick at 0x1dac6fd8bb0>,\n",
       "  <matplotlib.axis.XTick at 0x1dac6fe49a0>,\n",
       "  <matplotlib.axis.XTick at 0x1dac6fe4e20>,\n",
       "  <matplotlib.axis.XTick at 0x1dac6fee5b0>,\n",
       "  <matplotlib.axis.XTick at 0x1dac6feed00>],\n",
       " [Text(0, 0, 'C'),\n",
       "  Text(1, 0, 'C#'),\n",
       "  Text(2, 0, 'D'),\n",
       "  Text(3, 0, 'D#'),\n",
       "  Text(4, 0, 'E'),\n",
       "  Text(5, 0, 'F'),\n",
       "  Text(6, 0, 'F#'),\n",
       "  Text(7, 0, 'G'),\n",
       "  Text(8, 0, 'G#'),\n",
       "  Text(9, 0, 'A'),\n",
       "  Text(10, 0, 'A#'),\n",
       "  Text(11, 0, 'B'),\n",
       "  Text(12, 0, 'C:min'),\n",
       "  Text(13, 0, 'C#:min'),\n",
       "  Text(14, 0, 'D:min'),\n",
       "  Text(15, 0, 'D#:min'),\n",
       "  Text(16, 0, 'E:min'),\n",
       "  Text(17, 0, 'F:min'),\n",
       "  Text(18, 0, 'F#:min'),\n",
       "  Text(19, 0, 'G:min'),\n",
       "  Text(20, 0, 'G#:min'),\n",
       "  Text(21, 0, 'A:min'),\n",
       "  Text(22, 0, 'A#:min'),\n",
       "  Text(23, 0, 'B:min')])"
      ]
     },
     "execution_count": 588,
     "metadata": {},
     "output_type": "execute_result"
    },
    {
     "data": {
      "image/png": "[encoded data removed]",
      "text/plain": [
       "<Figure size 1080x288 with 1 Axes>"
      ]
     },
     "metadata": {
      "needs_background": "light"
     },
     "output_type": "display_data"
    }
   ],
   "source": [
    "templates = generate_template_matrix(np.concatenate((template_cmaj,template_cmin), axis = 1))\n",
    "\n",
    "plt.figure(figsize=(15,4))\n",
    "plt.imshow(templates, origin=\"lower\", aspect = \"auto\", cmap = \"bwr\")\n",
    "\n",
    "chroma_labels = ('C', 'C#', 'D', 'D#', 'E', 'F', 'F#', 'G', 'G#', 'A', 'A#', 'B')\n",
    "chroma_labels_maj = chroma_labels\n",
    "chroma_labels_min = [s+':min' for s in chroma_labels]\n",
    "chroma_labels = np.concatenate((chroma_labels_maj, chroma_labels_min), axis = 0)\n",
    "plt.xticks(np.arange(24), chroma_labels)"
   ]
  },
  {
   "cell_type": "code",
   "execution_count": 589,
   "metadata": {},
   "outputs": [],
   "source": [
    "def normalize_feature_sequence(X, norm='2', threshold=0.0001, v=None):\n",
    "    \"\"\"Normalizes the columns of a feature sequence\n",
    "\n",
    "    Args:\n",
    "        X: Feature sequence\n",
    "        norm: The norm to be applied. '1', '2', 'max'\n",
    "        threshold: An+ threshold below which the vector `v` used instead of normalization\n",
    "        v: Used instead of normalization below `threshold`. If None, uses unit vector for given norm\n",
    "\n",
    "    Returns:\n",
    "        X_norm: Normalized feature sequence\n",
    "    \"\"\"\n",
    "    \n",
    "    K, N = X.shape\n",
    "    X_norm = np.zeros((K,N))\n",
    "    #print(\"this is K\")\n",
    "    #print(K)\n",
    "    if norm == '1':\n",
    "        if v is None:\n",
    "            v = np.ones(K, dtype=np.float64) / K\n",
    "        for n in np.arange(N):\n",
    "            p = np.sum(np.abs(X[:,n]))\n",
    "            if p > threshold:\n",
    "                X_norm[:,n] = X[:,n]/p\n",
    "            else:\n",
    "                X_norm[:,n] = v\n",
    "                \n",
    "    if norm == '2':\n",
    "        if v is None:\n",
    "            v = np.ones(K, dtype=np.float64) / np.sqrt(K)\n",
    "        for n in np.arange(N):\n",
    "            p = np.sqrt(np.sum(X[:,n]**2))\n",
    "            if p > threshold:\n",
    "                X_norm[:,n] = X[:,n]/p\n",
    "            else:\n",
    "                X_norm[:,n] = v   \n",
    "    \n",
    "    if norm == 'max':\n",
    "        if v is None:\n",
    "            v = np.ones(K, dtype=np.float64) / K\n",
    "        for n in np.arange(N):\n",
    "            p = np.max(np.abs(X[:,n]))\n",
    "            if p > threshold:\n",
    "                X_norm[:,n] = X[:,n]/p\n",
    "            else:\n",
    "                X_norm[:,n] = v\n",
    "    #print(\"this is v\")\n",
    "    #print(v)\n",
    "    return X_norm"
   ]
  },
  {
   "cell_type": "code",
   "execution_count": 590,
   "metadata": {},
   "outputs": [],
   "source": [
    "from scipy import signal\n",
    "\n",
    "def smooth_downsample_feature_sequence(X, Fs, filt_len=41, down_sampling=10, w_type='boxcar'):\n",
    "    \"\"\"\n",
    "    Args:\n",
    "        X: Feature sequence\n",
    "        Fs: Frame rate of `X`\n",
    "        filt_len: Length of smoothing filter\n",
    "        down_sampling: Downsampling factor\n",
    "        w_type: Window type of smoothing filter\n",
    "\n",
    "    Returns:\n",
    "        X_smooth: Smoothed and downsampled feature sequence\n",
    "        Fs_feature: Frame rate of `X_smooth`\n",
    "        \n",
    "    Hint: use numpy expand dims to obtain a window of dimension (1, L)\n",
    "    \"\"\"\n",
    "    \n",
    "    filter_kernel = np.expand_dims(signal.get_window(w_type, filt_len), axis=0)\n",
    "    X_smooth =  signal.convolve(X, filter_kernel, mode='same') / filt_len \n",
    "    \n",
    "    X_smooth = X_smooth[:, ::down_sampling]\n",
    "    Fs_down = Fs / down_sampling\n",
    "    \n",
    "    return X_smooth, Fs_down"
   ]
  },
  {
   "cell_type": "code",
   "execution_count": 591,
   "metadata": {},
   "outputs": [],
   "source": [
    "def analysis_template_match(chromagram, templates, Fs = 22050, hop_length = 2048, norm_chromagram = '2', norm_output ='2', \n",
    "                            smoothing_window_length = None, smoothing_down_sampling = None):\n",
    "    \n",
    "    chromagram_normalized = normalize_feature_sequence(chromagram, norm_chromagram)\n",
    "    H = hop_length\n",
    "    Fs_chroma = Fs / H\n",
    "    \n",
    "    if smoothing_down_sampling and smoothing_window_length:\n",
    "        chromagram_normalized, Fs_feature = smooth_downsample_feature_sequence(chromagram_normalized, Fs_chroma,\n",
    "                                                                           down_sampling=smoothing_down_sampling,\n",
    "                                                                          filt_len=smoothing_window_length)\n",
    "    else:\n",
    "        Fs_feature = Fs / H \n",
    "    template_normalized = normalize_feature_sequence(templates,    \n",
    "                                                     norm = norm_chromagram)\n",
    "    \n",
    "    chord_similarity = np.matmul(template_normalized.T, chromagram_normalized)\n",
    "    \n",
    "    if norm_output:\n",
    "        chord_similarity = normalize_feature_sequence(chord_similarity, norm=norm_output)\n",
    "        \n",
    "    chord_max_labels = (chord_similarity == chord_similarity.max(axis = 0)).astype(int) #boolean matrix\n",
    "    \n",
    "    \n",
    "    return chord_similarity, chord_max_labels, Fs_feature\n"
   ]
  },
  {
   "cell_type": "code",
   "execution_count": 592,
   "metadata": {},
   "outputs": [],
   "source": [
    "# fn_wav = os.path.join('data', 'wav', 'Beatles_LetItBe.wav')\n",
    "# fn_wav = os.path.join('data', 'wav', 'Beatles_HereComesTheSun.wav')\n",
    "Fs = 22050\n",
    "x,Fs = librosa.load(fn_wav, sr=Fs)\n",
    "\n",
    "\n",
    "N = 4096\n",
    "H = 2048\n",
    "X = librosa.stft(x, n_fft = N, hop_length = H, pad_mode = 'constant', center = True)\n",
    "X = np.abs(X)**2\n",
    "\n",
    "C = librosa.feature.chroma_stft(S=X, sr = Fs, tuning = 0, hop_length = H, n_fft = N)\n",
    "\n",
    "chord_sim, chord_max, Fs_feature = analysis_template_match(C, templates, \n",
    "                                               smoothing_window_length=7, \n",
    "                                               smoothing_down_sampling=7,\n",
    "                                               norm_chromagram = '2', \n",
    "                                               norm_output = 'max')"
   ]
  },
  {
   "cell_type": "code",
   "execution_count": 593,
   "metadata": {
    "scrolled": true
   },
   "outputs": [
    {
     "name": "stdout",
     "output_type": "stream",
     "text": [
      "[[0 0 0 ... 0 0 0]\n",
      " [0 0 0 ... 0 0 0]\n",
      " [0 0 0 ... 0 0 1]\n",
      " ...\n",
      " [0 0 0 ... 1 0 1]\n",
      " [0 0 0 ... 0 0 0]\n",
      " [0 0 0 ... 0 0 1]]\n"
     ]
    },
    {
     "data": {
      "text/plain": [
       "([<matplotlib.axis.YTick at 0x1dac80428e0>,\n",
       "  <matplotlib.axis.YTick at 0x1dac8042f40>,\n",
       "  <matplotlib.axis.YTick at 0x1dac8042370>,\n",
       "  <matplotlib.axis.YTick at 0x1dac8079490>,\n",
       "  <matplotlib.axis.YTick at 0x1dac805db50>,\n",
       "  <matplotlib.axis.YTick at 0x1dac8079e20>,\n",
       "  <matplotlib.axis.YTick at 0x1dac80805b0>,\n",
       "  <matplotlib.axis.YTick at 0x1dac8080d00>,\n",
       "  <matplotlib.axis.YTick at 0x1dac8087490>,\n",
       "  <matplotlib.axis.YTick at 0x1dac8087be0>,\n",
       "  <matplotlib.axis.YTick at 0x1dac808b370>,\n",
       "  <matplotlib.axis.YTick at 0x1dac80873d0>,\n",
       "  <matplotlib.axis.YTick at 0x1dac8080130>,\n",
       "  <matplotlib.axis.YTick at 0x1dac80202e0>,\n",
       "  <matplotlib.axis.YTick at 0x1dac808b910>,\n",
       "  <matplotlib.axis.YTick at 0x1dac8095160>,\n",
       "  <matplotlib.axis.YTick at 0x1dac80957f0>,\n",
       "  <matplotlib.axis.YTick at 0x1dac8095f40>,\n",
       "  <matplotlib.axis.YTick at 0x1dac808bb20>,\n",
       "  <matplotlib.axis.YTick at 0x1dac8080a00>,\n",
       "  <matplotlib.axis.YTick at 0x1dac809e490>,\n",
       "  <matplotlib.axis.YTick at 0x1dac809ebe0>,\n",
       "  <matplotlib.axis.YTick at 0x1dac80a2370>,\n",
       "  <matplotlib.axis.YTick at 0x1dac80a2ac0>],\n",
       " [Text(0, 0, 'C'),\n",
       "  Text(0, 1, 'C#'),\n",
       "  Text(0, 2, 'D'),\n",
       "  Text(0, 3, 'D#'),\n",
       "  Text(0, 4, 'E'),\n",
       "  Text(0, 5, 'F'),\n",
       "  Text(0, 6, 'F#'),\n",
       "  Text(0, 7, 'G'),\n",
       "  Text(0, 8, 'G#'),\n",
       "  Text(0, 9, 'A'),\n",
       "  Text(0, 10, 'A#'),\n",
       "  Text(0, 11, 'B'),\n",
       "  Text(0, 12, 'C:min'),\n",
       "  Text(0, 13, 'C#:min'),\n",
       "  Text(0, 14, 'D:min'),\n",
       "  Text(0, 15, 'D#:min'),\n",
       "  Text(0, 16, 'E:min'),\n",
       "  Text(0, 17, 'F:min'),\n",
       "  Text(0, 18, 'F#:min'),\n",
       "  Text(0, 19, 'G:min'),\n",
       "  Text(0, 20, 'G#:min'),\n",
       "  Text(0, 21, 'A:min'),\n",
       "  Text(0, 22, 'A#:min'),\n",
       "  Text(0, 23, 'B:min')])"
      ]
     },
     "execution_count": 593,
     "metadata": {},
     "output_type": "execute_result"
    },
    {
     "data": {
      "image/png": "[encoded data removed]",
      "text/plain": [
       "<Figure size 1512x504 with 1 Axes>"
      ]
     },
     "metadata": {
      "needs_background": "light"
     },
     "output_type": "display_data"
    },
    {
     "data": {
      "image/png": "[encoded data removed]",
      "text/plain": [
       "<Figure size 1512x504 with 1 Axes>"
      ]
     },
     "metadata": {
      "needs_background": "light"
     },
     "output_type": "display_data"
    }
   ],
   "source": [
    "#print(chord_sim)\n",
    "print(chord_max)\n",
    "\n",
    "fig = plt.figure(figsize=(21, 7))\n",
    "plt.imshow(chord_sim, origin='lower', aspect='auto', cmap = 'gray_r')\n",
    "plt.yticks(np.arange(24), chroma_labels)\n",
    "\n",
    "fig = plt.figure(figsize=(21, 7))\n",
    "plt.imshow(chord_max, origin='lower', aspect='auto', cmap = 'gray_r')\n",
    "plt.yticks(np.arange(24), chroma_labels)\n"
   ]
  },
  {
   "cell_type": "code",
   "execution_count": 594,
   "metadata": {},
   "outputs": [],
   "source": [
    "def chordList(filePath, Fs=22050, N=4096, H=2048, smoothing_window_length=None, smoothing_down_sampling=None):\n",
    "    \n",
    "    x,Fs = librosa.load(filePath, sr=Fs)\n",
    "    X = librosa.stft(x, n_fft = N, hop_length = H, pad_mode = 'constant', center = True)\n",
    "    X = np.abs(X)**2\n",
    "    C = librosa.feature.chroma_stft(S=X, sr = Fs, tuning = 0, hop_length = H, n_fft = N)\n",
    "    \n",
    "    chord_sim, chord_max, Fs_feature = analysis_template_match(C, templates, \n",
    "                                                  hop_length = H,\n",
    "                                                  smoothing_window_length=smoothing_window_length, \n",
    "                                                  smoothing_down_sampling=smoothing_down_sampling,\n",
    "                                                  norm_chromagram = '2', \n",
    "                                                  norm_output = 'max')\n",
    "    K, N = chord_max.shape\n",
    "    print(K)\n",
    "    chordList = []\n",
    "    for i in np.arange(N):\n",
    "        pos = chord_max[:,i]\n",
    "        #print(pos)\n",
    "        maxPos = np.where(pos != 0)\n",
    "#         print(maxPos[0])\n",
    "        if maxPos[0].size == 1:\n",
    "            #print(len(maxPos))\n",
    "            chordList.append(chroma_labels[maxPos[0].item(0)])\n",
    "            #print(chordList)\n",
    "        else:\n",
    "            #print(\"stupido\")\n",
    "            #print(len(maxPos))\n",
    "            chordList.append(\"random\")\n",
    "    \n",
    "    return chordList, Fs_feature"
   ]
  },
  {
   "cell_type": "code",
   "execution_count": 595,
   "metadata": {},
   "outputs": [
    {
     "name": "stdout",
     "output_type": "stream",
     "text": [
      "24\n",
      "['F', 'F', 'A:min', 'D:min', 'A#', 'A#', 'A#', 'A#', 'A#', 'A#', 'A#', 'A#', 'A#', 'A#', 'A#', 'A#', 'A#', 'A#:min', 'D', 'A#', 'A#:min', 'F', 'F', 'F', 'F', 'C:min', 'A:min', 'A#', 'A#', 'D:min', 'F', 'A#', 'A#', 'D#:min', 'G:min', 'D#', 'G:min', 'A#', 'F', 'F', 'A#', 'A#', 'A#', 'A#', 'A#', 'A#', 'F', 'D:min', 'G:min', 'F', 'A#', 'F', 'F', 'A#', 'A#', 'A#', 'A#', 'D:min', 'A#', 'F', 'D:min', 'D#', 'G', 'A#', 'F', 'F', 'A#', 'A#', 'A#', 'A#', 'D:min', 'A#', 'F', 'F', 'F', 'F', 'F', 'C:min', 'F', 'A#', 'A#', 'A#', 'A#', 'A#', 'A#', 'A#', 'G:min', 'G', 'A#', 'A#', 'F', 'C', 'A#', 'A#', 'A#', 'A#', 'A#', 'A#', 'F', 'D:min', 'G:min', 'A#', 'G:min', 'F', 'F', 'A#', 'A#', 'A#', 'A#', 'A#', 'A#', 'F', 'D:min', 'D:min', 'A#', 'F', 'F', 'F', 'A#', 'A#:min', 'G:min', 'D#:min', 'A#', 'D#', 'D#', 'D#', 'D#', 'A#', 'D', 'A#:min', 'A#:min', 'A#', 'A#', 'G#', 'D#', 'D#', 'D#', 'A#', 'D#', 'E:min', 'D:min', 'D:min', 'A#', 'D:min', 'F:min', 'F', 'F', 'A#', 'D:min', 'D:min', 'F', 'F', 'F', 'A#:min', 'F', 'F', 'D#', 'A#', 'A#', 'F:min', 'F', 'A#', 'D:min', 'A#', 'G:min', 'D#', 'A#', 'A#', 'F', 'F', 'A#', 'G:min', 'A#', 'A#', 'F', 'A#', 'F:min', 'A', 'G:min', 'F', 'A#', 'F', 'F', 'A#', 'A#', 'G:min', 'A#', 'F', 'A#', 'F:min', 'F', 'G:min', 'F', 'A#', 'F', 'D:min', 'A#', 'A#', 'C#', 'D#', 'D#:min', 'D#', 'D#:min', 'D#:min', 'D#:min', 'A#', 'D', 'F', 'A#:min', 'A#', 'A#', 'G#', 'D#', 'D#', 'E:min', 'A#', 'D#', 'D#', 'D:min', 'D:min', 'D#:min', 'D:min', 'F', 'F', 'F', 'A#', 'D:min', 'A#', 'F', 'A:min', 'F', 'C:min', 'A#:min', 'F', 'C:min', 'A#', 'A#', 'A#', 'A#', 'D:min', 'F', 'D#:min', 'D#', 'D#', 'D#', 'A#', 'F', 'F', 'A#', 'A#', 'G:min', 'A#', 'A#', 'A#', 'D:min', 'F', 'A#', 'G', 'A#', 'D:min', 'F', 'A#', 'D:min', 'D:min', 'A#', 'A#', 'A#', 'F:min', 'F', 'A#', 'G', 'A#', 'D:min', 'F', 'G:min', 'G:min', 'G:min', 'G:min', 'G:min', 'D#', 'A#', 'A#', 'D#', 'A#', 'A#', 'A#', 'A#', 'D#', 'E:min', 'G:min', 'D#:min']\n",
      "1.5380859375\n"
     ]
    }
   ],
   "source": [
    "# fn_wav = os.path.join('data', 'wav', 'Beatles_LetItBe.wav')\n",
    "# fn_wav = os.path.join('data', 'wav', 'Beatles_HereComesTheSun.wav')\n",
    "fn_wav = os.path.join('data', 'wav', 'Beatles_ObLaDiObLaDa.wav')\n",
    "\n",
    "\n",
    "chordListValue, Fs_featureVal = chordList(fn_wav, smoothing_window_length=7, smoothing_down_sampling=7)\n",
    "print(chordListValue)\n",
    "# print(len(chordListValue))\n",
    "print(Fs_featureVal)"
   ]
  },
  {
   "cell_type": "markdown",
   "metadata": {},
   "source": [
    "#### Question 2"
   ]
  },
  {
   "cell_type": "code",
   "execution_count": 596,
   "metadata": {},
   "outputs": [],
   "source": [
    "def loadCSV(csvFileName, Fs_value):\n",
    "    \n",
    "    with open(csvFileName, newline='') as csvfile:\n",
    "            \n",
    "        reader = csv.DictReader(csvfile)\n",
    "        out_list = []\n",
    "        timeAccumulator = 0\n",
    "        \n",
    "        for row in reader:\n",
    "#             while (timeAccumulator <= float(row['End'])) or ((timeAccumulator-float(row['End'])) < (1/(2*Fs_value))):\n",
    "            while (timeAccumulator <= float(row['End'])):\n",
    "                out_list.append(row['Label'])\n",
    "                timeAccumulator += 1/Fs_value\n",
    "    \n",
    "#         if ((timeAccumulator<=float(row['End']))and(timeAccumulator-float(row['End'])) >= (1/(2*Fs_value))):\n",
    "#             out_list.append(row['Label'])\n",
    "        \n",
    "            \n",
    "        return out_list, float(row['End'])\n",
    "                \n"
   ]
  },
  {
   "cell_type": "code",
   "execution_count": 597,
   "metadata": {},
   "outputs": [],
   "source": [
    "obla = \"./data/csv/Beatles_ObLaDiObLaDa.csv\";\n",
    "letit = \"./data/csv/Beatles_LetItBe.csv\"\n",
    "here = \"./data/csv/Beatles_HereComesTheSun.csv\"\n",
    "\n",
    "myList, end = loadCSV(obla, Fs_feature)\n"
   ]
  },
  {
   "cell_type": "code",
   "execution_count": 598,
   "metadata": {},
   "outputs": [
    {
     "name": "stdout",
     "output_type": "stream",
     "text": [
      "['F', 'F', 'F', 'A:min', 'A#', 'A#', 'A#', 'A#', 'A#', 'A#', 'A#', 'A#', 'A#', 'A#', 'A#', 'A#', 'A#', 'A#', 'A#', 'A#', 'A#', 'F', 'F', 'F', 'F', 'F', 'F', 'A#', 'A#', 'A#', 'A#', 'A#', 'A#', 'A#', 'D#', 'D#', 'D#', 'A#', 'A#', 'F', 'A#', 'A#', 'A#', 'A#', 'A#', 'A#', 'A#', 'F', 'F', 'G:min', 'A#', 'A#', 'F', 'F', 'A#', 'A#', 'A#', 'A#', 'A#', 'A#', 'F', 'F', 'G:min', 'A#', 'A#', 'F', 'F', 'A#', 'A#', 'A#', 'A#', 'A#', 'A#', 'F', 'F', 'F', 'F', 'F', 'F', 'A#', 'A#', 'A#', 'A#', 'A#', 'A#', 'A#', 'D#', 'D#', 'D#', 'A#', 'A#', 'F', 'A#', 'A#', 'A#', 'A#', 'A#', 'A#', 'A#', 'F', 'G:min', 'G:min', 'A#', 'A#', 'F', 'A#', 'A#', 'A#', 'A#', 'A#', 'A#', 'A#', 'F', 'G:min', 'G:min', 'A#', 'A#', 'F', 'A#', 'A#', 'A#', 'A#', 'D#', 'D#', 'D#', 'D#', 'D#', 'D#', 'A#', 'A#', 'A#', 'A#', 'A#', 'A#', 'D#', 'D#', 'D#', 'D#', 'D#', 'D#', 'D#', 'A#', 'A#', 'A#', 'F', 'F', 'F', 'A#', 'A#', 'A#', 'A#', 'F', 'F', 'F', 'F', 'F', 'F', 'A#', 'A#', 'A#', 'A#', 'A#', 'A#', 'A#', 'D#', 'D#', 'D#', 'A#', 'A#', 'F', 'A#', 'A#', 'A#', 'A#', 'A#', 'A#', 'A#', 'F', 'G:min', 'G:min', 'A#', 'A#', 'F', 'A#', 'A#', 'A#', 'A#', 'A#', 'A#', 'A#', 'F', 'F', 'G:min', 'A#', 'A#', 'F', 'A#', 'A#', 'A#', 'A#', 'D#', 'D#', 'D#', 'D#', 'D#', 'D#', 'A#', 'A#', 'A#', 'A#', 'A#', 'A#', 'A#', 'D#', 'D#', 'D#', 'D#', 'D#', 'D#', 'A#', 'A#', 'A#', 'F', 'F', 'F', 'F', 'A#', 'A#', 'A#', 'F', 'F', 'F', 'F', 'F', 'F', 'F', 'A#', 'A#', 'A#', 'A#', 'A#', 'A#', 'D#', 'D#', 'D#', 'A#', 'A#', 'F', 'F', 'A#', 'A#', 'A#', 'A#', 'A#', 'A#', 'F', 'F', 'G:min', 'G:min', 'A#', 'F', 'F', 'A#', 'A#', 'A#', 'A#', 'A#', 'A#', 'F', 'F', 'G:min', 'G:min', 'A#', 'F', 'F', 'G:min', 'G:min', 'G:min', 'G:min', 'G:min', 'G:min', 'F', 'F/', 'A#', 'A#', 'A#', 'A#', 'A#', 'A#', 'A#', 'A#', 'A#']\n"
     ]
    }
   ],
   "source": [
    "chroma_labels = ('C', 'C#', 'D', 'D#', 'E', 'F', 'F#', 'G', 'G#', 'A', 'A#', 'B')\n",
    "\n",
    "def stocazzo (chord_list, chroma_labels):\n",
    "    \n",
    "    comp_list = []\n",
    "    chroma_labels = list(chroma_labels)\n",
    "    L = len(chroma_labels)\n",
    "    \n",
    "    for i in np.arange(len(chord_list)):\n",
    "        \n",
    "        chord = chord_list[i]\n",
    "\n",
    "        if(len(chord)>1):\n",
    "            \n",
    "            if (chord[1] == 'b'):\n",
    "                index = (chroma_labels.index(chord[0])-1)%L\n",
    "                enharmonic_chord = chroma_labels[index];\n",
    "                old_chord = chord[:2]\n",
    "                chord = chord.replace(old_chord, enharmonic_chord)\n",
    "                \n",
    "            if (('min' in chord) or ('dim' in chord)):\n",
    "                index = chord.index(':')+1\n",
    "                chord = chord[:index]+'min'\n",
    "                \n",
    "                comp_list.append(chord)\n",
    "                \n",
    "            else:\n",
    "                if chord[1]==':':\n",
    "                    comp_list.append(chord[0])\n",
    "                else:\n",
    "                    comp_list.append(chord[:2])\n",
    "\n",
    "        else:\n",
    "            comp_list.append(chord)\n",
    "            \n",
    "    return comp_list\n",
    "\n",
    "comp = stocazzo(myList, chroma_labels)\n",
    "print(comp)\n"
   ]
  },
  {
   "cell_type": "markdown",
   "metadata": {},
   "source": [
    "Question 3"
   ]
  },
  {
   "cell_type": "code",
   "execution_count": 599,
   "metadata": {},
   "outputs": [
    {
     "name": "stdout",
     "output_type": "stream",
     "text": [
      "Lists must have same length!\n",
      "L_chord:  291\n",
      "L_gt:  292\n"
     ]
    }
   ],
   "source": [
    "\n",
    "def compute_goodness(chord_list, ground_truth_list):\n",
    "    L = len(chord_list)\n",
    "    L_gt = len(ground_truth_list)\n",
    "    counter = 0\n",
    "    if L==L_gt:\n",
    "        for i in np.arange(len(chord_list)):\n",
    "            if chord_list[i] == ground_truth_list[i]:\n",
    "                counter += 1\n",
    "        goodness = counter/L\n",
    "        return goodness\n",
    "    else:\n",
    "        print('Lists must have same length!')\n",
    "        print('L_chord: ', L)\n",
    "        print('L_gt: ', L_gt)\n",
    "        \n",
    "compute_goodness(chordListValue, comp)\n",
    "\n"
   ]
  },
  {
   "cell_type": "code",
   "execution_count": null,
   "metadata": {},
   "outputs": [],
   "source": []
  }
 ],
 "metadata": {
  "interpreter": {
   "hash": "30ff950b27efe7cb4f8b2d2f53733a8ac061bb755bf12e9016cc8731339318fd"
  },
  "kernelspec": {
   "display_name": "Python 3 (ipykernel)",
   "language": "python",
   "name": "python3"
  },
  "language_info": {
   "codemirror_mode": {
    "name": "ipython",
    "version": 3
   },
   "file_extension": ".py",
   "mimetype": "text/x-python",
   "name": "python",
   "nbconvert_exporter": "python",
   "pygments_lexer": "ipython3",
   "version": "3.9.7"
  }
 },
 "nbformat": 4,
 "nbformat_minor": 2
}
