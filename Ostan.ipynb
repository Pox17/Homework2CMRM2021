{
 "cells": [
  {
   "cell_type": "markdown",
   "metadata": {},
   "source": [
    "# <h1><center> Homework 2 Assignment </center></h1>\n",
    "### <h2><center> Computer Music Representations and Models Course </center></h2>\n",
    "#### <h3><center> Acoustics Engineering @ Politecnico di Milano </center></h3>\n"
   ]
  },
  {
   "cell_type": "code",
   "execution_count": 7,
   "metadata": {},
   "outputs": [],
   "source": [
    "import os\n",
    "import numpy as np\n",
    "from matplotlib import pyplot as plt\n",
    "import matplotlib.image as mpimg\n",
    "import librosa\n",
    "import IPython.display as ipd"
   ]
  },
  {
   "cell_type": "markdown",
   "metadata": {},
   "source": [
    "##### Question 1\n",
    "<!-->in this element is loaded the main answer to the first question<!-->\n",
    "Implementation of _template based chord recognition function_. Given an audio file, and some control parameters as the input of the function, it will extrapolate the chord sequence based on the audio feature extrapolation "
   ]
  },
  {
   "cell_type": "code",
   "execution_count": 8,
   "metadata": {},
   "outputs": [],
   "source": [
    "def stft_basic(x, w, H=8):\n",
    "    \"\"\"Compute a basic version of the discrete short-time Fourier transform (STFT)\n",
    "\n",
    "    Args:\n",
    "        x: Signal to be transformed\n",
    "        w: Window function\n",
    "        H: Hopsize\n",
    "\n",
    "    Returns:\n",
    "        X: The discrete short-time Fourier transform\n",
    "    \"\"\"\n",
    "    N = len(w)\n",
    "    L = len(x)\n",
    "    M = np.floor((L - N) / H).astype(int)\n",
    "    X = np.zeros((N, M + 1), dtype='complex')\n",
    "    for m in range(M + 1):\n",
    "        x_win = x[m * H:m * H + N] * w\n",
    "        X_win = np.fft.fft(x_win)\n",
    "        X[:, m] = X_win\n",
    "    K = (N + 1) // 2\n",
    "    X = X[:K, :]\n",
    "    return X"
   ]
  },
  {
   "cell_type": "code",
   "execution_count": 9,
   "metadata": {},
   "outputs": [],
   "source": [
    "#creation of the main chord templates for the recognition algorithm \n",
    "template_cmaj = np.array([[1,0,0,0,1,0,0,1,0,0,0,0]]).T\n",
    "template_cmin = np.array([[1,0,0,1,0,0,0,1,0,0,0,0]]).T"
   ]
  },
  {
   "cell_type": "code",
   "execution_count": 10,
   "metadata": {},
   "outputs": [],
   "source": [
    "#function that generates a template matrix shifting chords pattern (e.g. C_maj, C_min...) in all 12 keys. \n",
    "# the function expects a matrix of dimensions (12,n) containing n possibile patterns  \n",
    "def generate_template_matrix(templates):\n",
    "    template_matrix = np.zeros((12,12 * templates.shape[1]))\n",
    "    for shift in range(12):\n",
    "        template_matrix[:, shift::12] = np.roll(templates,shift, axis = 0)\n",
    "    return template_matrix"
   ]
  },
  {
   "cell_type": "code",
   "execution_count": 11,
   "metadata": {},
   "outputs": [
    {
     "data": {
      "text/plain": [
       "([<matplotlib.axis.XTick at 0x20a036ba250>,\n",
       "  <matplotlib.axis.XTick at 0x20a036ba220>,\n",
       "  <matplotlib.axis.XTick at 0x20a02d67fa0>,\n",
       "  <matplotlib.axis.XTick at 0x20a034eacd0>,\n",
       "  <matplotlib.axis.XTick at 0x20a034f5460>,\n",
       "  <matplotlib.axis.XTick at 0x20a034f5bb0>,\n",
       "  <matplotlib.axis.XTick at 0x20a034f5dc0>,\n",
       "  <matplotlib.axis.XTick at 0x20a034eaca0>,\n",
       "  <matplotlib.axis.XTick at 0x20a034fc850>,\n",
       "  <matplotlib.axis.XTick at 0x20a035020a0>,\n",
       "  <matplotlib.axis.XTick at 0x20a03502730>,\n",
       "  <matplotlib.axis.XTick at 0x20a03502e80>,\n",
       "  <matplotlib.axis.XTick at 0x20a03507610>,\n",
       "  <matplotlib.axis.XTick at 0x20a03502670>,\n",
       "  <matplotlib.axis.XTick at 0x20a034fc400>,\n",
       "  <matplotlib.axis.XTick at 0x20a03507b20>,\n",
       "  <matplotlib.axis.XTick at 0x20a0350f2b0>,\n",
       "  <matplotlib.axis.XTick at 0x20a0350fa00>,\n",
       "  <matplotlib.axis.XTick at 0x20a03518190>,\n",
       "  <matplotlib.axis.XTick at 0x20a035188e0>,\n",
       "  <matplotlib.axis.XTick at 0x20a0350f490>,\n",
       "  <matplotlib.axis.XTick at 0x20a034fcc70>,\n",
       "  <matplotlib.axis.XTick at 0x20a03518cd0>,\n",
       "  <matplotlib.axis.XTick at 0x20a0351f460>],\n",
       " [Text(0, 0, 'C'),\n",
       "  Text(1, 0, 'C#'),\n",
       "  Text(2, 0, 'D'),\n",
       "  Text(3, 0, 'D#'),\n",
       "  Text(4, 0, 'E'),\n",
       "  Text(5, 0, 'F'),\n",
       "  Text(6, 0, 'F#'),\n",
       "  Text(7, 0, 'G'),\n",
       "  Text(8, 0, 'G#'),\n",
       "  Text(9, 0, 'A'),\n",
       "  Text(10, 0, 'A#'),\n",
       "  Text(11, 0, 'B'),\n",
       "  Text(12, 0, 'C_m'),\n",
       "  Text(13, 0, 'C#_m'),\n",
       "  Text(14, 0, 'D_m'),\n",
       "  Text(15, 0, 'D#_m'),\n",
       "  Text(16, 0, 'E_m'),\n",
       "  Text(17, 0, 'F_m'),\n",
       "  Text(18, 0, 'F#_m'),\n",
       "  Text(19, 0, 'G_m'),\n",
       "  Text(20, 0, 'G#_m'),\n",
       "  Text(21, 0, 'A_m'),\n",
       "  Text(22, 0, 'A#_m'),\n",
       "  Text(23, 0, 'B_m')])"
      ]
     },
     "execution_count": 11,
     "metadata": {},
     "output_type": "execute_result"
    },
    {
     "data": {
      "image/png": "[encoded data removed]",
      "text/plain": [
       "<Figure size 1080x288 with 1 Axes>"
      ]
     },
     "metadata": {
      "needs_background": "light"
     },
     "output_type": "display_data"
    }
   ],
   "source": [
    "templates = generate_template_matrix(np.concatenate((template_cmaj,template_cmin), axis = 1))\n",
    "\n",
    "plt.figure(figsize=(15,4))\n",
    "plt.imshow(templates, origin=\"lower\", aspect = \"auto\", cmap = \"bwr\")\n",
    "\n",
    "chroma_labels = ('C', 'C#', 'D', 'D#', 'E', 'F', 'F#', 'G', 'G#', 'A', 'A#', 'B')\n",
    "chroma_labels_maj = chroma_labels\n",
    "chroma_labels_min = [s+'_m' for s in chroma_labels]\n",
    "chroma_labels = np.concatenate((chroma_labels_maj, chroma_labels_min), axis = 0)\n",
    "plt.xticks(np.arange(24), chroma_labels)"
   ]
  },
  {
   "cell_type": "code",
   "execution_count": 12,
   "metadata": {},
   "outputs": [],
   "source": [
    "def normalize_feature_sequence(X, norm='2', threshold=0.0001, v=None):\n",
    "    \"\"\"Normalizes the columns of a feature sequence\n",
    "\n",
    "    Args:\n",
    "        X: Feature sequence\n",
    "        norm: The norm to be applied. '1', '2', 'max'\n",
    "        threshold: An+ threshold below which the vector `v` used instead of normalization\n",
    "        v: Used instead of normalization below `threshold`. If None, uses unit vector for given norm\n",
    "\n",
    "    Returns:\n",
    "        X_norm: Normalized feature sequence\n",
    "    \"\"\"\n",
    "    \n",
    "    K, N = X.shape\n",
    "    X_norm = np.zeros((K,N))\n",
    "    \n",
    "    if norm == '1':\n",
    "        if v is None:\n",
    "            v = np.ones(K, dtype=np.float64) / K\n",
    "        for n in np.arange(N):\n",
    "            p = np.sum(np.abs(X[:,n]))\n",
    "            if p > threshold:\n",
    "                X_norm[:,n] = X[:,n]/p\n",
    "            else:\n",
    "                X_norm[:,n] = v\n",
    "                \n",
    "    if norm == '2':\n",
    "        if v is None:\n",
    "            v = np.ones(K, dtype=np.float64) / np.sqrt(K)\n",
    "        for n in np.arange(N):\n",
    "            p = np.sqrt(np.sum(X[:,n]**2))\n",
    "            if p > threshold:\n",
    "                X_norm[:,n] = X[:,n]/p\n",
    "            else:\n",
    "                X_norm[:,n] = v   \n",
    "    \n",
    "    if norm == 'max':\n",
    "        if v is None:\n",
    "            v = np.ones(K, dtype=np.float64) / K\n",
    "        for n in np.arange(N):\n",
    "            p = np.max(np.abs(X[:,n]))\n",
    "            if p > threshold:\n",
    "                X_norm[:,n] = X[:,n]/p\n",
    "            else:\n",
    "                X_norm[:,n] = v\n",
    "    \n",
    "    return X_norm"
   ]
  },
  {
   "cell_type": "code",
   "execution_count": 13,
   "metadata": {},
   "outputs": [],
   "source": [
    "from scipy import signal\n",
    "\n",
    "def smooth_downsample_feature_sequence(X, Fs, filt_len=41, down_sampling=10, w_type='boxcar'):\n",
    "    \"\"\"\n",
    "    Args:\n",
    "        X: Feature sequence\n",
    "        Fs: Frame rate of `X`\n",
    "        filt_len: Length of smoothing filter\n",
    "        down_sampling: Downsampling factor\n",
    "        w_type: Window type of smoothing filter\n",
    "\n",
    "    Returns:\n",
    "        X_smooth: Smoothed and downsampled feature sequence\n",
    "        Fs_feature: Frame rate of `X_smooth`\n",
    "        \n",
    "    Hint: use numpy expand dims to obtain a window of dimension (1, L)\n",
    "    \"\"\"\n",
    "    \n",
    "    filter_kernel = np.expand_dims(signal.get_window(w_type, filt_len), axis=0)\n",
    "    X_smooth =  signal.convolve(X, filt_kernel, mode='same') / filt_len \n",
    "    \n",
    "    X_smooth = X_smooth[:, ::down_sampling]\n",
    "    Fs_feature = Fs / down_sampling\n",
    "    \n",
    "    return X_smooth, Fs_feature"
   ]
  },
  {
   "cell_type": "code",
   "execution_count": 14,
   "metadata": {},
   "outputs": [],
   "source": [
    "def analysis_template_match(chromagram, templates, Fs = 22050, norm_chromagram = '2', norm_output ='2', \n",
    "                            smoothing_window_length = None, smoothing_down_sampling = None):\n",
    "    chromagram_normalized = normalize_feature_sequence(chromagram, norm_chromagram)\n",
    "    \n",
    "    if smoothing_down_sampling and smoothing_window_length:\n",
    "        chromagram_normalized, Fs_feature = smooth_downsample_feature_sequence(chromagram_normalized, \n",
    "                                                                           down_sampling=smoothing_down_sampling,\n",
    "                                                                          filt_len=smoothing_window_length)\n",
    "    template_normalized = normalize_feature_sequence(templates,    \n",
    "                                                     norm = norm_chromagram)\n",
    "    \n",
    "    chord_similarity = np.matmul(template_normalized.T, chromagram_normalized)\n",
    "    \n",
    "    if norm_output:\n",
    "        chord_similarity = normalize_feature_sequence(chord_similarity, norm=norm_output)\n",
    "        \n",
    "    chord_max_labels = (chord_similarity == chord_similarity.max(axis = 0)).astype(int) #boolean matrix\n",
    "    \n",
    "    return chord_similarity, chord_max_labels\n"
   ]
  },
  {
   "cell_type": "code",
   "execution_count": 17,
   "metadata": {},
   "outputs": [],
   "source": [
    "fn_wav = os.path.join('data', 'wav', 'Beatles_LetItBe.wav')\n",
    "Fs = 22050\n",
    "x,Fs = librosa.load(fn_wav, sr=Fs)\n",
    "\n",
    "\n",
    "N = 4096\n",
    "H = 2048\n",
    "X = librosa.stft(x, n_fft = N, hop_length = H, pad_mode = 'constant', center = True)\n",
    "X = np.abs(X)**2\n",
    "\n",
    "C = librosa.feature.chroma_stft(S=X, sr = Fs, tuning = 0, hop_length = H, n_fft = N)\n",
    "\n",
    "chord_sim, chord_max = analysis_template_match(C, templates, \n",
    "                                               smoothing_window_length=None, \n",
    "                                               smoothing_down_sampling=None,\n",
    "                                               norm_chromagram = '2', \n",
    "                                               norm_output = 'max')"
   ]
  }
 ],
 "metadata": {
  "interpreter": {
   "hash": "30ff950b27efe7cb4f8b2d2f53733a8ac061bb755bf12e9016cc8731339318fd"
  },
  "kernelspec": {
   "display_name": "Python 3.9.7 64-bit (conda)",
   "language": "python",
   "name": "python3"
  },
  "language_info": {
   "codemirror_mode": {
    "name": "ipython",
    "version": 3
   },
   "file_extension": ".py",
   "mimetype": "text/x-python",
   "name": "python",
   "nbconvert_exporter": "python",
   "pygments_lexer": "ipython3",
   "version": "3.9.7"
  },
  "orig_nbformat": 4
 },
 "nbformat": 4,
 "nbformat_minor": 2
}
