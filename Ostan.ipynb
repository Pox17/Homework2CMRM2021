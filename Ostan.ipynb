{
 "cells": [
  {
   "cell_type": "markdown",
   "metadata": {},
   "source": [
    "# <h1><center> Homework 2 Assignment </center></h1>\n",
    "### <h2><center> Computer Music Representations and Models Course </center></h2>\n",
    "#### <h3><center> Acoustics Engineering @ Politecnico di Milano </center></h3>\n"
   ]
  },
  {
   "cell_type": "code",
   "execution_count": 7,
   "metadata": {},
   "outputs": [],
   "source": [
    "import os\n",
    "import numpy as np\n",
    "from matplotlib import pyplot as plt\n",
    "import matplotlib.image as mpimg\n",
    "import librosa\n",
    "import IPython.display as ipd"
   ]
  },
  {
   "cell_type": "markdown",
   "metadata": {},
   "source": [
    "##### Question 1\n",
    "<!-->in this element is loaded the main answer to the first question<!-->\n",
    "Implementation of _template based chord recognition function_. Given an audio file, and some control parameters as the input of the function, it will extrapolate the chord sequence based on the audio feature extrapolation "
   ]
  },
  {
   "cell_type": "code",
   "execution_count": 4,
   "metadata": {},
   "outputs": [],
   "source": [
    "#creation of the main chord templates for the recognition algorithm \n",
    "template_cmaj = np.array([[1,0,0,0,1,0,0,1,0,0,0,0]]).T\n",
    "template_cmin = np.array([[1,0,0,1,0,0,0,1,0,0,0,0]]).T"
   ]
  },
  {
   "cell_type": "code",
   "execution_count": 5,
   "metadata": {},
   "outputs": [],
   "source": [
    "#function that generates a template matrix shifting chords pattern (e.g. C_maj, C_min...) in all 12 keys. \n",
    "# the function expects a matrix of dimensions (12,n) containing n possibile patterns  \n",
    "def generate_template_matrix(templates):\n",
    "    template_matrix = np.zeros((12,12 * templates.shape[1]))\n",
    "    for shift in range(12):\n",
    "        template_matrix[:, shift::12] = np.roll(templates,shift, axis = 0)\n",
    "    return template_matrix"
   ]
  },
  {
   "cell_type": "code",
   "execution_count": 13,
   "metadata": {},
   "outputs": [
    {
     "data": {
      "text/plain": [
       "([<matplotlib.axis.XTick at 0x1ace10fa6d0>,\n",
       "  <matplotlib.axis.XTick at 0x1ace10fa6a0>,\n",
       "  <matplotlib.axis.XTick at 0x1ace10f3400>,\n",
       "  <matplotlib.axis.XTick at 0x1ace112c190>,\n",
       "  <matplotlib.axis.XTick at 0x1ace112c8e0>,\n",
       "  <matplotlib.axis.XTick at 0x1ace0fb0130>,\n",
       "  <matplotlib.axis.XTick at 0x1ace112cd30>,\n",
       "  <matplotlib.axis.XTick at 0x1ace0fb05e0>,\n",
       "  <matplotlib.axis.XTick at 0x1ace0fb0cd0>,\n",
       "  <matplotlib.axis.XTick at 0x1ace0fb9460>,\n",
       "  <matplotlib.axis.XTick at 0x1ace0fb9bb0>,\n",
       "  <matplotlib.axis.XTick at 0x1ace0fbf340>,\n",
       "  <matplotlib.axis.XTick at 0x1ace0fbfa90>,\n",
       "  <matplotlib.axis.XTick at 0x1ace0fb9880>,\n",
       "  <matplotlib.axis.XTick at 0x1ace111ebe0>,\n",
       "  <matplotlib.axis.XTick at 0x1ace0fc70a0>,\n",
       "  <matplotlib.axis.XTick at 0x1ace0fc7730>,\n",
       "  <matplotlib.axis.XTick at 0x1ace0fc7e80>,\n",
       "  <matplotlib.axis.XTick at 0x1ace0fce610>,\n",
       "  <matplotlib.axis.XTick at 0x1ace0fced60>,\n",
       "  <matplotlib.axis.XTick at 0x1ace0fce2e0>,\n",
       "  <matplotlib.axis.XTick at 0x1ace0fbff70>,\n",
       "  <matplotlib.axis.XTick at 0x1ace0fd2190>,\n",
       "  <matplotlib.axis.XTick at 0x1ace0fd28e0>],\n",
       " [Text(0, 0, 'C'),\n",
       "  Text(1, 0, 'C#'),\n",
       "  Text(2, 0, 'D'),\n",
       "  Text(3, 0, 'D#'),\n",
       "  Text(4, 0, 'E'),\n",
       "  Text(5, 0, 'F'),\n",
       "  Text(6, 0, 'F#'),\n",
       "  Text(7, 0, 'G'),\n",
       "  Text(8, 0, 'G#'),\n",
       "  Text(9, 0, 'A'),\n",
       "  Text(10, 0, 'A#'),\n",
       "  Text(11, 0, 'B'),\n",
       "  Text(12, 0, 'C_m'),\n",
       "  Text(13, 0, 'C#_m'),\n",
       "  Text(14, 0, 'D_m'),\n",
       "  Text(15, 0, 'D#_m'),\n",
       "  Text(16, 0, 'E_m'),\n",
       "  Text(17, 0, 'F_m'),\n",
       "  Text(18, 0, 'F#_m'),\n",
       "  Text(19, 0, 'G_m'),\n",
       "  Text(20, 0, 'G#_m'),\n",
       "  Text(21, 0, 'A_m'),\n",
       "  Text(22, 0, 'A#_m'),\n",
       "  Text(23, 0, 'B_m')])"
      ]
     },
     "execution_count": 13,
     "metadata": {},
     "output_type": "execute_result"
    },
    {
     "data": {
      "image/png": "[encoded data removed]",
      "text/plain": [
       "<Figure size 1080x288 with 1 Axes>"
      ]
     },
     "metadata": {
      "needs_background": "light"
     },
     "output_type": "display_data"
    }
   ],
   "source": [
    "\n",
    "templates = generate_template_matrix(np.concatenate((template_cmaj,template_cmin), axis = 1))\n",
    "\n",
    "plt.figure(figsize=(15,4))\n",
    "plt.imshow(templates, origin=\"lower\", aspect = \"auto\", cmap = \"bwr\")\n",
    "\n",
    "chroma_labels = ('C', 'C#', 'D', 'D#', 'E', 'F', 'F#', 'G', 'G#', 'A', 'A#', 'B')\n",
    "chroma_labels_maj = chroma_labels\n",
    "chroma_labels_min = [s+'_m' for s in chroma_labels]\n",
    "chroma_labels = np.concatenate((chroma_labels_maj, chroma_labels_min), axis = 0)\n",
    "plt.xticks(np.arange(24), chroma_labels)"
   ]
  }
 ],
 "metadata": {
  "interpreter": {
   "hash": "30ff950b27efe7cb4f8b2d2f53733a8ac061bb755bf12e9016cc8731339318fd"
  },
  "kernelspec": {
   "display_name": "Python 3.9.7 64-bit (conda)",
   "language": "python",
   "name": "python3"
  },
  "language_info": {
   "codemirror_mode": {
    "name": "ipython",
    "version": 3
   },
   "file_extension": ".py",
   "mimetype": "text/x-python",
   "name": "python",
   "nbconvert_exporter": "python",
   "pygments_lexer": "ipython3",
   "version": "3.9.7"
  },
  "orig_nbformat": 4
 },
 "nbformat": 4,
 "nbformat_minor": 2
}
