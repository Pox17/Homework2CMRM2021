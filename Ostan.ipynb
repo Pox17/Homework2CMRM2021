{
 "cells": [
  {
   "cell_type": "markdown",
   "metadata": {},
   "source": [
    "# <h1><center> Homework 2 Assignment </center></h1>\n",
    "### <h2><center> Computer Music Representations and Models Course </center></h2>\n",
    "#### <h3><center> Acoustics Engineering @ Politecnico di Milano </center></h3>\n"
   ]
  },
  {
   "cell_type": "markdown",
   "metadata": {},
   "source": [
    "##### Question 1"
   ]
  }
 ],
 "metadata": {
  "language_info": {
   "name": "python"
  },
  "orig_nbformat": 4
 },
 "nbformat": 4,
 "nbformat_minor": 2
}
