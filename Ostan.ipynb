{
 "cells": [
  {
   "cell_type": "markdown",
   "metadata": {},
   "source": [
    "# <h1><center> Homework 2 Assignment </center></h1>\n",
    "### <h1><center> Computer Music Representations and Models Course </center></h1>\n",
    "#### <h1><center> Acoustics Engineering @ Politecnico di Milano </center></h1>\n"
   ]
  }
 ],
 "metadata": {
  "language_info": {
   "name": "python"
  },
  "orig_nbformat": 4
 },
 "nbformat": 4,
 "nbformat_minor": 2
}
